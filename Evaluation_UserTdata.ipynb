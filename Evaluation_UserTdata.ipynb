{
 "cells": [
  {
   "cell_type": "markdown",
   "metadata": {},
   "source": [
    "# NLP Model Evaluation \n",
    "\n",
    "In this notebook, we will evaluate three models for the NLP component of Gredient. We will use self-collected data that contains images and annotations of product safety, given a set of allergens. Since Textract has been proven to do well on time and accuracy, we will move forward with evaluating NLP models on detections from Textract. \n",
    "\n",
    "The three models are (1) a perfect matching mechanism, (2) cosine similarity with CountVectorizer character embeddings, and (3) cosine similarity with Chars2Vec character embeddings. For the latter two, we tune the threshold of the cosine similarity scores to observe which setting would result in an acceptable balance between the true positive rate and the false positive rate. When the threshold is higher, the model makes fewer matches between allergens and ingredients, and thus has an increased false positive rate. Basic match represents the accuracy metrics at the highest threshold, where the cosine similarity score equals 1. \n",
    "\n",
    "A true positive takes place when the model correctly signals a product to be safe, since there are no ingredient and allergen matches. On the other hand, a false positive is when a model signals a product to be safe when it is actually unsafe.   \n",
    "\n"
   ]
  },
  {
   "cell_type": "markdown",
   "metadata": {},
   "source": [
    "### Import some libraries..."
   ]
  },
  {
   "cell_type": "code",
   "execution_count": 1,
   "metadata": {},
   "outputs": [],
   "source": [
    "import boto3 \n",
    "import botocore \n",
    "from sagemaker import get_execution_role \n",
    "\n",
    "import PIL\n",
    "from PIL import Image\n",
    "import s3fs\n",
    "from io import BytesIO\n",
    "\n",
    "import pandas as pd\n",
    "import numpy as np\n",
    "import re \n",
    "import string\n",
    "import time\n",
    "\n",
    "import chars2vec\n",
    "from sklearn.feature_extraction.text import CountVectorizer\n",
    "from sklearn.metrics.pairwise import cosine_similarity\n",
    "\n",
    "import matplotlib\n",
    "import matplotlib.pyplot as plt\n",
    "from matplotlib.patches import Polygon"
   ]
  },
  {
   "cell_type": "markdown",
   "metadata": {},
   "source": [
    "### Connect to S3 and read data..."
   ]
  },
  {
   "cell_type": "code",
   "execution_count": 2,
   "metadata": {},
   "outputs": [],
   "source": [
    "# read true safety annotations\n",
    "role = get_execution_role() \n",
    "data_location = 's3://{}/{}'.format('sagemaker-060720', 'true_safety.csv') \n",
    "true_safety = pd.read_csv(data_location)"
   ]
  },
  {
   "cell_type": "code",
   "execution_count": 3,
   "metadata": {},
   "outputs": [],
   "source": [
    "# read images and file names\n",
    "file_names = []\n",
    "imgs = []\n",
    "\n",
    "fs = s3fs.S3FileSystem()\n",
    "for img_path in fs.ls('s3://sagemaker-060720/Images/'):\n",
    "    file_name = img_path[24:]\n",
    "    file_names.append(file_name)\n",
    "    with fs.open(f's3://'+img_path) as f:\n",
    "        pil_img = Image.open(f)\n",
    "        buff = BytesIO()\n",
    "        pil_img.save(buff, format=\"JPEG\")\n",
    "        img_bytes = buff.getvalue()\n",
    "        imgs.append(img_bytes)\n",
    "    "
   ]
  },
  {
   "cell_type": "markdown",
   "metadata": {},
   "source": [
    "### Preprocess for NLP..."
   ]
  },
  {
   "cell_type": "code",
   "execution_count": 4,
   "metadata": {},
   "outputs": [],
   "source": [
    "# add allergens column \n",
    "true_safety['allergens'] = \"na\"\n",
    "\n",
    "isaac = 'milk, cheese, soy, cream, eggs'\n",
    "jj = 'peanuts, whey, tree nuts'\n",
    "chelsea = 'Shrimp, Prawns, Lobster, Crab'\n",
    "emma = 'wheat, barely, rye triticale'\n",
    "silvia = 'garlic, avocado, celery'\n",
    "\n",
    "true_safety.loc[0:10, 'allergens'] = emma\n",
    "true_safety.loc[10:21, 'allergens'] = silvia\n",
    "true_safety.loc[21:45, 'allergens'] = isaac\n",
    "true_safety.loc[45:55, 'allergens'] = jj\n",
    "true_safety.loc[55:65, 'allergens'] = chelsea"
   ]
  },
  {
   "cell_type": "code",
   "execution_count": 5,
   "metadata": {},
   "outputs": [
    {
     "name": "stdout",
     "output_type": "stream",
     "text": [
      "(65, 4)\n"
     ]
    },
    {
     "data": {
      "text/html": [
       "<div>\n",
       "<style scoped>\n",
       "    .dataframe tbody tr th:only-of-type {\n",
       "        vertical-align: middle;\n",
       "    }\n",
       "\n",
       "    .dataframe tbody tr th {\n",
       "        vertical-align: top;\n",
       "    }\n",
       "\n",
       "    .dataframe thead th {\n",
       "        text-align: right;\n",
       "    }\n",
       "</style>\n",
       "<table border=\"1\" class=\"dataframe\">\n",
       "  <thead>\n",
       "    <tr style=\"text-align: right;\">\n",
       "      <th></th>\n",
       "      <th>Item</th>\n",
       "      <th>Name</th>\n",
       "      <th>Label</th>\n",
       "      <th>allergens</th>\n",
       "    </tr>\n",
       "  </thead>\n",
       "  <tbody>\n",
       "    <tr>\n",
       "      <th>0</th>\n",
       "      <td>0</td>\n",
       "      <td>emma-1.jpg</td>\n",
       "      <td>0</td>\n",
       "      <td>wheat, barely, rye triticale</td>\n",
       "    </tr>\n",
       "    <tr>\n",
       "      <th>1</th>\n",
       "      <td>1</td>\n",
       "      <td>emma-2.jpg</td>\n",
       "      <td>0</td>\n",
       "      <td>wheat, barely, rye triticale</td>\n",
       "    </tr>\n",
       "    <tr>\n",
       "      <th>2</th>\n",
       "      <td>2</td>\n",
       "      <td>emma-3.jpg</td>\n",
       "      <td>0</td>\n",
       "      <td>wheat, barely, rye triticale</td>\n",
       "    </tr>\n",
       "    <tr>\n",
       "      <th>3</th>\n",
       "      <td>3</td>\n",
       "      <td>emma-4.jpg</td>\n",
       "      <td>0</td>\n",
       "      <td>wheat, barely, rye triticale</td>\n",
       "    </tr>\n",
       "    <tr>\n",
       "      <th>4</th>\n",
       "      <td>4</td>\n",
       "      <td>emma-5.jpg</td>\n",
       "      <td>1</td>\n",
       "      <td>wheat, barely, rye triticale</td>\n",
       "    </tr>\n",
       "  </tbody>\n",
       "</table>\n",
       "</div>"
      ],
      "text/plain": [
       "   Item        Name  Label                     allergens\n",
       "0     0  emma-1.jpg      0  wheat, barely, rye triticale\n",
       "1     1  emma-2.jpg      0  wheat, barely, rye triticale\n",
       "2     2  emma-3.jpg      0  wheat, barely, rye triticale\n",
       "3     3  emma-4.jpg      0  wheat, barely, rye triticale\n",
       "4     4  emma-5.jpg      1  wheat, barely, rye triticale"
      ]
     },
     "execution_count": 5,
     "metadata": {},
     "output_type": "execute_result"
    }
   ],
   "source": [
    "print(true_safety.shape)\n",
    "true_safety.head()"
   ]
  },
  {
   "cell_type": "code",
   "execution_count": 6,
   "metadata": {},
   "outputs": [],
   "source": [
    "# allergens and labels corresponding to images\n",
    "allergens = []\n",
    "labels = []\n",
    "\n",
    "for file_name in file_names:\n",
    "    \n",
    "    true_vals = true_safety.loc[true_safety.Name == file_name,]\n",
    "    \n",
    "    allgs = true_vals.allergens.values[0]\n",
    "    allergens.append(allgs)\n",
    "    \n",
    "    label = true_vals.Label.values[0]\n",
    "    labels.append(label)"
   ]
  },
  {
   "cell_type": "code",
   "execution_count": 7,
   "metadata": {},
   "outputs": [],
   "source": [
    "# Textract detections \n",
    "detected = []\n",
    "\n",
    "for img in imgs:\n",
    "\n",
    "    tex_client = boto3.client('textract')\n",
    "    tex_dect = tex_client.detect_document_text(Document={\"Bytes\":img})\n",
    "\n",
    "    tex_text = [text['Text'] if text['BlockType']=='WORD' else \"\" for text in tex_dect['Blocks']]\n",
    "    detected.append(tex_text)    "
   ]
  },
  {
   "cell_type": "markdown",
   "metadata": {},
   "source": [
    "### Helpful Functions"
   ]
  },
  {
   "cell_type": "code",
   "execution_count": 8,
   "metadata": {},
   "outputs": [],
   "source": [
    "# clean words \n",
    "def clean_word (word):\n",
    "    \n",
    "    c_word = word.lower().strip() # lowercase and remove white space\n",
    "    c_word = re.sub('[^a-zA-Z]+', '', c_word) # remove anything that's not a letter\n",
    "    if len(c_word) < 2: # remove words that are less than 2 characters\n",
    "        c_word = \"\" \n",
    "    \n",
    "    return c_word\n",
    "\n",
    "# clean string of words\n",
    "def clean_text (text, split=True):\n",
    "    \n",
    "    if split == False: # for ocr output\n",
    "        c_text = [clean_word(w) for w in text] # already split and clean words\n",
    "        \n",
    "    else: \n",
    "        c_text = re.sub('[0-9]', ' ', text) # replace numbers with space \n",
    "        c_text = re.sub('['+string.punctuation+']', ' ', c_text) # replace punctuation with space\n",
    "        c_text = [clean_word(w) for w in c_text.split()] # split on spaces and clean words\n",
    "      \n",
    "    c_text = sorted(list(filter(None, set(c_text)))) # remove empty words and get unique values and sort\n",
    "    \n",
    "    return c_text"
   ]
  },
  {
   "cell_type": "code",
   "execution_count": 9,
   "metadata": {},
   "outputs": [],
   "source": [
    "# positive: safe ; negative: unsafe\n",
    "# true positives: #(classified safe products that are actually safe) \n",
    "# false positives: #(classified safe products that are actually unsafe) <- NOT GOOD \n",
    "# true negatives: #(classified unsafe products that are actually unsafe)\n",
    "# false negatives: #(classified unsafe products that are actually safe)\n",
    "\n",
    "def pred_stats(pred_safety, true_safety):\n",
    "    \n",
    "    tp = 0\n",
    "    fp = 0\n",
    "    tn = 0\n",
    "    fn = 0\n",
    "    for i in range(len(pred_safety)):\n",
    "        if (pred_safety[i]==\"safe\") & (true_safety[i]==1):\n",
    "            tp += 1\n",
    "        if (pred_safety[i]==\"safe\") & (true_safety[i]==0):\n",
    "            fp += 1\n",
    "        if (pred_safety[i]==\"unsafe\") & (true_safety[i]==0):\n",
    "            tn += 1\n",
    "        if (pred_safety[i]==\"unsafe\") & (true_safety[i]==1):\n",
    "            fn += 1\n",
    "    \n",
    "    if tp == 0:\n",
    "        p = 0\n",
    "        r = 0\n",
    "        f1score = 0\n",
    "    else: \n",
    "        p = tp/(tp+fp)\n",
    "        r = tp/(tp+fn)\n",
    "        f1score = (2*p*r)/(p+r)\n",
    "        \n",
    "    return [tp,fp,tn,fn,p,r,f1score]"
   ]
  },
  {
   "cell_type": "code",
   "execution_count": 10,
   "metadata": {},
   "outputs": [],
   "source": [
    "# detect the safety of ingredients for a given similarity score \n",
    "def dect_safety(safety_func, sim):  \n",
    "    \n",
    "    start_time = time.time()\n",
    "    \n",
    "    safety = [safety_func(allgs, ings, sim) for allgs,ings in zip(clean_allergens, clean_detected)]\n",
    "    \n",
    "    t_time = (time.time() - start_time)/65\n",
    "    print(\"--- %s seconds ---\" % t_time)\n",
    "    \n",
    "    return [safety, t_time]"
   ]
  },
  {
   "cell_type": "markdown",
   "metadata": {},
   "source": [
    "### Cleaned list of detections and allergens"
   ]
  },
  {
   "cell_type": "code",
   "execution_count": 11,
   "metadata": {},
   "outputs": [],
   "source": [
    "clean_detected = [clean_text(tex_text, split=False) for tex_text in detected]\n",
    "clean_allergens = [clean_text(allgs) for allgs in allergens]"
   ]
  },
  {
   "cell_type": "markdown",
   "metadata": {},
   "source": [
    "## Perfect Match "
   ]
  },
  {
   "cell_type": "code",
   "execution_count": 12,
   "metadata": {},
   "outputs": [],
   "source": [
    "# apply perfect matching\n",
    "def safety_perfect (allergens, ingredients): \n",
    "    if len(ingredients) == 0 or ingredients == ['']:\n",
    "        return \"Nothing detected. Please retake photo.\" \n",
    "    else: \n",
    "        ocr_safety = [a in ingredients for a in allergens] # creates boolean array of presence of allergen in ingredients\n",
    "        if sum(ocr_safety) > 0:\n",
    "            return \"unsafe\"\n",
    "        else: return \"safe\""
   ]
  },
  {
   "cell_type": "code",
   "execution_count": 13,
   "metadata": {},
   "outputs": [
    {
     "name": "stdout",
     "output_type": "stream",
     "text": [
      "--- 8.16491933969351e-06 seconds ---\n"
     ]
    }
   ],
   "source": [
    "start_time = time.time()\n",
    "\n",
    "perfect_safety = [safety_perfect(allgs, ings) for allgs,ings in zip(clean_allergens, clean_detected)]\n",
    "\n",
    "print(\"--- %s seconds ---\" % ((time.time() - start_time)/(65))) # 7.2e-06 seconds"
   ]
  },
  {
   "cell_type": "code",
   "execution_count": 14,
   "metadata": {},
   "outputs": [
    {
     "data": {
      "text/plain": [
       "[37, 4, 22, 1, 0.9024390243902439, 0.9736842105263158, 0.9367088607594938]"
      ]
     },
     "execution_count": 14,
     "metadata": {},
     "output_type": "execute_result"
    }
   ],
   "source": [
    "perfect_scores = pred_stats(perfect_safety, labels)\n",
    "perfect_scores"
   ]
  },
  {
   "cell_type": "markdown",
   "metadata": {},
   "source": [
    "## CountVectorizer"
   ]
  },
  {
   "cell_type": "code",
   "execution_count": 15,
   "metadata": {},
   "outputs": [],
   "source": [
    "def safety_count (allergens, ingredients, sim):\n",
    "    if len(ingredients) == 0 or ingredients == ['']:\n",
    "        return \"Nothing detected. Please retake photo.\" \n",
    "    else:\n",
    "        vectorizer = CountVectorizer(analyzer='char')\n",
    "        words = allergens + ingredients # create list of allergens and ingredients \n",
    "        word_embeddings = vectorizer.fit_transform(words) # embeddings for allergens and ingredients \n",
    "        cos_sims = cosine_similarity(word_embeddings[:len(allergens)], word_embeddings[len(allergens):]) # cos sim of allergens and ingredients \n",
    "        counts = [sum(all_sims) for all_sims in cos_sims > sim] # counts of ingredients with a 'sim' greater cos sim to each allergen \n",
    "        if sum(counts) > 0:\n",
    "            return \"unsafe\" \n",
    "        else: return \"safe\" "
   ]
  },
  {
   "cell_type": "code",
   "execution_count": 16,
   "metadata": {},
   "outputs": [
    {
     "name": "stdout",
     "output_type": "stream",
     "text": [
      "--- 0.0026391066037691558 seconds ---\n",
      "--- 0.002550697326660156 seconds ---\n",
      "--- 0.002513287617610051 seconds ---\n",
      "--- 0.00252072994525616 seconds ---\n",
      "--- 0.0025115306560809796 seconds ---\n",
      "--- 0.0025214378650371843 seconds ---\n",
      "--- 0.0025505982912503757 seconds ---\n",
      "--- 0.002487043234018179 seconds ---\n"
     ]
    }
   ],
   "source": [
    "count_sims = [0.65, 0.70, 0.75, 0.80, 0.85, 0.90, 0.95, 1]\n",
    "count_safety = [dect_safety(safety_count, sim) for sim in count_sims]"
   ]
  },
  {
   "cell_type": "code",
   "execution_count": 17,
   "metadata": {},
   "outputs": [
    {
     "name": "stdout",
     "output_type": "stream",
     "text": [
      "0.00253680394246028\n"
     ]
    }
   ],
   "source": [
    "count_safe = [count_s[0] for count_s in count_safety] # detected safety for each cosine threshold\n",
    "print(sum([count_s[1] for count_s in count_safety])/len(count_sims)) # average time: 0.0025"
   ]
  },
  {
   "cell_type": "code",
   "execution_count": 18,
   "metadata": {},
   "outputs": [
    {
     "data": {
      "text/plain": [
       "[[6, 0, 26, 32, 1.0, 0.15789473684210525, 0.2727272727272727],\n",
       " [8, 1, 25, 30, 0.8888888888888888, 0.21052631578947367, 0.3404255319148936],\n",
       " [12, 1, 25, 26, 0.9230769230769231, 0.3157894736842105, 0.47058823529411764],\n",
       " [23, 1, 25, 15, 0.9583333333333334, 0.6052631578947368, 0.7419354838709677],\n",
       " [28, 2, 24, 10, 0.9333333333333333, 0.7368421052631579, 0.8235294117647058],\n",
       " [33, 2, 24, 5, 0.9428571428571428, 0.868421052631579, 0.904109589041096],\n",
       " [36, 3, 23, 2, 0.9230769230769231, 0.9473684210526315, 0.935064935064935],\n",
       " [37, 10, 16, 1, 0.7872340425531915, 0.9736842105263158, 0.8705882352941177]]"
      ]
     },
     "execution_count": 18,
     "metadata": {},
     "output_type": "execute_result"
    }
   ],
   "source": [
    "count_scores = [pred_stats(count_safe[i], labels) for i in range(len(count_sims))] # scores for each cosine\n",
    "count_scores"
   ]
  },
  {
   "cell_type": "markdown",
   "metadata": {},
   "source": [
    "## Chars2Vec"
   ]
  },
  {
   "cell_type": "code",
   "execution_count": 19,
   "metadata": {},
   "outputs": [],
   "source": [
    "def safety_chars (allergens, ingredients, sim):\n",
    "    if len(ingredients) == 0 or ingredients == ['']:\n",
    "        return \"Nothing detected. Please retake photo.\"\n",
    "    else:\n",
    "        c2v_model = chars2vec.load_model('eng_50')\n",
    "        words = allergens + ingredients # create list of allergens and ingredients \n",
    "        word_embeddings = c2v_model.vectorize_words(words) # embeddings for allergens and ingredients \n",
    "        cos_sims = cosine_similarity(word_embeddings[:len(allergens)], word_embeddings[len(allergens):]) # cos sim of allergens and ingredients \n",
    "        counts = [sum(all_sims) for all_sims in cos_sims > sim] # counts of ingredients with a 'sim' greater cos sim to each allergen \n",
    "        if sum(counts) > 0:\n",
    "            return \"unsafe\"\n",
    "        else: return \"safe\""
   ]
  },
  {
   "cell_type": "code",
   "execution_count": 20,
   "metadata": {},
   "outputs": [
    {
     "name": "stdout",
     "output_type": "stream",
     "text": [
      "--- 2.2281713485717773 seconds ---\n",
      "--- 2.2876782087179333 seconds ---\n",
      "--- 2.361599907508263 seconds ---\n",
      "--- 2.4540147194495567 seconds ---\n",
      "--- 2.4723326426285963 seconds ---\n",
      "--- 2.460872631806594 seconds ---\n"
     ]
    }
   ],
   "source": [
    "chars_sims = [0.75, 0.80, 0.85, 0.90, 0.95, 1]\n",
    "chars_safety = [dect_safety(safety_chars, sim) for sim in chars_sims]"
   ]
  },
  {
   "cell_type": "code",
   "execution_count": 21,
   "metadata": {},
   "outputs": [
    {
     "name": "stdout",
     "output_type": "stream",
     "text": [
      "2.3774449097804538\n"
     ]
    }
   ],
   "source": [
    "chars_safe = [chars_s[0] for chars_s in chars_safety] # detected safety for all ingredients for every cosine threshold\n",
    "print(sum([chars_s[1] for chars_s in chars_safety])/len(chars_sims)) # average time: 2.40915"
   ]
  },
  {
   "cell_type": "code",
   "execution_count": 22,
   "metadata": {},
   "outputs": [
    {
     "data": {
      "text/plain": [
       "[[17, 0, 26, 21, 1.0, 0.4473684210526316, 0.6181818181818182],\n",
       " [24, 1, 25, 14, 0.96, 0.631578947368421, 0.7619047619047619],\n",
       " [30, 2, 24, 8, 0.9375, 0.7894736842105263, 0.8571428571428572],\n",
       " [36, 3, 23, 2, 0.9230769230769231, 0.9473684210526315, 0.935064935064935],\n",
       " [37, 4, 22, 1, 0.9024390243902439, 0.9736842105263158, 0.9367088607594938],\n",
       " [38, 20, 6, 0, 0.6551724137931034, 1.0, 0.7916666666666666]]"
      ]
     },
     "execution_count": 22,
     "metadata": {},
     "output_type": "execute_result"
    }
   ],
   "source": [
    "chars_scores = [pred_stats(chars_safe[i], labels) for i in range(len(chars_sims))] # scores for each cosine\n",
    "chars_scores"
   ]
  },
  {
   "cell_type": "markdown",
   "metadata": {},
   "source": [
    "## ROC and AUC\n",
    "\n",
    "For different thresholds of the cosine similarity score, we can draw an ROC curve to determine the best threshold for the tradeoff we are willing to accept. We can also compare CountVectorizer and Chars2Vec based on their AUC."
   ]
  },
  {
   "cell_type": "markdown",
   "metadata": {},
   "source": [
    "### Helpful Functions"
   ]
  },
  {
   "cell_type": "code",
   "execution_count": 23,
   "metadata": {},
   "outputs": [],
   "source": [
    "# sensitivity = recall =  tp/(tp+fn) : true safe detections out of all safe\n",
    "def tpr(tex_scores): \n",
    "    return [scores[5] for scores in tex_scores]\n",
    "  \n",
    "# 1-specificity = false positive rate = fp/(fp+tn) : false safe detections out of all unsafe\n",
    "def fpr(tex_scores):\n",
    "    return [scores[1]/(scores[1]+scores[2]) for scores in tex_scores if (scores[1]+scores[2])!=0]\n",
    "    \n",
    "# (0:tp, 1:fp, 2:tn, 3:fn, 4:p, 5:r, 6:f1score) "
   ]
  },
  {
   "cell_type": "code",
   "execution_count": 24,
   "metadata": {},
   "outputs": [],
   "source": [
    "plt.style.use('fivethirtyeight')\n",
    "matplotlib.rcParams['font.family'] = \"sans-serif\"\n",
    "\n",
    "def plotROC (scores1, scores2, scores3):\n",
    "    \n",
    "    x1 = fpr(scores1)\n",
    "    y1 = tpr(scores1)\n",
    "\n",
    "    x2 = fpr(scores2)\n",
    "    y2 = tpr(scores2)\n",
    "    \n",
    "    x3 = scores3[1]/(scores3[1]+scores3[2])\n",
    "    y3 = scores3[5]\n",
    "\n",
    "    fig, ax = plt.subplots(figsize=(15,10))\n",
    "    \n",
    "    plt.plot([0, 0, 1], [0, 1, 1], '--', alpha=0.5, c=\"#ff6666\") #, label='Perfect Classifier'\n",
    "    plt.plot([0,1], [0,1], ':', alpha=0.5, c=\"#0099ff\") #, label='Random Classifier'\n",
    "\n",
    "    plt.ylabel(\"True Positive Rate (Sensitivity)\", color=\"#447b72\", weight=\"bold\", fontsize=20)\n",
    "    plt.yticks(fontsize=15, color=\"#234943\")\n",
    "    plt.xlabel(\"False Positive Rate (1-Specificity)\", color=\"#447b72\", weight=\"bold\", fontsize=20)\n",
    "    plt.xticks(fontsize=15, color=\"#234943\")\n",
    "    #plt.title(\"All Images\")\n",
    "\n",
    "    plt.plot(x3, y3, 'D', label='Basic Match', alpha=0.75, markersize=12, c=\"#6331d8\")\n",
    "    plt.plot(x1, y1, label='CountVectorizer', c=\"#33cccc\")\n",
    "    plt.plot(x2, y2, label='Chars2Vec', c=\"#ffcc66\")\n",
    "    plt.plot(x3, y3, 'D', alpha=0.75, markersize=12, c=\"#6331d8\")\n",
    "\n",
    "    legend = ax.legend(loc='center right', edgecolor='#447b72', shadow=True, prop={'weight':'bold', 'size':15})\n",
    "    frame = legend.get_frame()\n",
    "    frame.set_facecolor(\"white\")\n",
    "    \n",
    "    for text in legend.get_texts():\n",
    "        text.set_color(\"#447b72\")\n",
    "        \n",
    "    vertsp = [(0, 0), *zip(np.linspace(0, 1), [1]*len(np.linspace(0, 1))), (1, 0)]\n",
    "    polyp = Polygon(vertsp, facecolor='0.9', edgecolor='0.5', color=\"#ff9933\", alpha=0.1)\n",
    "    ax.add_patch(polyp)\n",
    "\n",
    "    verts2 = [(x2[0], 0), *zip(x2, y2), (x2[-1], 0)]\n",
    "    poly2 = Polygon(verts2, facecolor='0.9', edgecolor='0.5', color=\"#ffff99\", alpha=0.3)\n",
    "    ax.add_patch(poly2)\n",
    "    \n",
    "    verts1 = [(x1[0], 0), *zip(x1, y1), (x1[-1], 0)]\n",
    "    poly1 = Polygon(verts1, facecolor='0.9', edgecolor='0.5', color=\"#66ffcc\", alpha=0.3)\n",
    "    ax.add_patch(poly1)\n",
    "    \n",
    "    fig.set_facecolor('white')\n",
    "    ax.set_facecolor(\"white\")\n",
    "\n",
    "    for i, txt in enumerate(count_sims):\n",
    "        ax.annotate(txt, (x1[i], y1[i]+0.02), fontsize=10)\n",
    "        \n",
    "    for i, txt in enumerate(chars_sims):\n",
    "        ax.annotate(txt, (x2[i], y2[i]+0.02), fontsize=10)\n",
    "\n",
    "    ax.annotate(\"Perfect Classifier\", (0.715, 0.96), fontsize=17, c=\"#ff6666\", weight='bold', alpha=0.8)\n",
    "    ax.annotate(\"Random Classifier\", (0.45, 0.40), fontsize=17, rotation=31.5, c=\"#0099ff\", weight='bold', alpha=0.8)\n",
    "    \n",
    "    plt.savefig(\"lol.jpg\")\n",
    "\n",
    "    return plt"
   ]
  },
  {
   "cell_type": "code",
   "execution_count": 25,
   "metadata": {},
   "outputs": [
    {
     "name": "stderr",
     "output_type": "stream",
     "text": [
      "<ipython-input-24-10323f17c43e>:39: UserWarning: Setting the 'color' property will override the edgecolor or facecolor properties.\n",
      "  polyp = Polygon(vertsp, facecolor='0.9', edgecolor='0.5', color=\"#ff9933\", alpha=0.1)\n",
      "<ipython-input-24-10323f17c43e>:43: UserWarning: Setting the 'color' property will override the edgecolor or facecolor properties.\n",
      "  poly2 = Polygon(verts2, facecolor='0.9', edgecolor='0.5', color=\"#ffff99\", alpha=0.3)\n",
      "<ipython-input-24-10323f17c43e>:47: UserWarning: Setting the 'color' property will override the edgecolor or facecolor properties.\n",
      "  poly1 = Polygon(verts1, facecolor='0.9', edgecolor='0.5', color=\"#66ffcc\", alpha=0.3)\n"
     ]
    },
    {
     "data": {
      "image/png": "[encoded data removed]",
      "text/plain": [
       "<Figure size 1080x720 with 1 Axes>"
      ]
     },
     "metadata": {},
     "output_type": "display_data"
    }
   ],
   "source": [
    "plt = plotROC(count_scores, chars_scores, perfect_scores) # top ingredients \n",
    "\n",
    "plt.show()"
   ]
  },
  {
   "cell_type": "code",
   "execution_count": null,
   "metadata": {},
   "outputs": [],
   "source": []
  }
 ],
 "metadata": {
  "kernelspec": {
   "display_name": "conda_ocr_new",
   "language": "python",
   "name": "conda_ocr_new"
  },
  "language_info": {
   "codemirror_mode": {
    "name": "ipython",
    "version": 3
   },
   "file_extension": ".py",
   "mimetype": "text/x-python",
   "name": "python",
   "nbconvert_exporter": "python",
   "pygments_lexer": "ipython3",
   "version": "3.8.3"
  }
 },
 "nbformat": 4,
 "nbformat_minor": 4
}
