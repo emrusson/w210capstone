{
 "cells": [
  {
   "cell_type": "markdown",
   "metadata": {},
   "source": [
    "# NLP Model Evaluation \n",
    "\n",
    "In this notebook, we will evaluate three models for the NLP component of Gredient. We will use self-collected data that contains images and annotations of product safety, given a set of allergens. Since Textract has been proven to do well on time and accuracy, we will move forward with evaluating NLP models on detections from Textract. \n",
    "\n",
    "The three models are (1) a perfect matching mechanism, (2) cosine similarity with CountVectorizer character embeddings, and (3) cosine similarity with Chars2Vec character embeddings. For the latter two, we tune the threshold of the cosine similarity scores to observe which setting would result in an acceptable balance between the true positive rate and the false positive rate. When the threshold is higher, the model makes fewer matches between allergens and ingredients, and thus has an increased false positive rate. Basic match represents the accuracy metrics at the highest threshold, where the cosine similarity score equals 1. \n",
    "\n",
    "A true positive takes place when the model correctly signals a product to be safe, since there are no ingredient and allergen matches. On the other hand, a false positive is when a model signals a product to be safe when it is actually unsafe.   \n",
    "\n"
   ]
  },
  {
   "cell_type": "markdown",
   "metadata": {},
   "source": [
    "### Import some libraries..."
   ]
  },
  {
   "cell_type": "code",
   "execution_count": 1,
   "metadata": {},
   "outputs": [],
   "source": [
    "import boto3 \n",
    "import botocore \n",
    "from sagemaker import get_execution_role \n",
    "\n",
    "import PIL\n",
    "from PIL import Image\n",
    "import s3fs\n",
    "from io import BytesIO\n",
    "\n",
    "import pandas as pd\n",
    "import numpy as np\n",
    "import re \n",
    "import string\n",
    "import time\n",
    "\n",
    "import chars2vec\n",
    "from sklearn.feature_extraction.text import CountVectorizer\n",
    "from sklearn.metrics.pairwise import cosine_similarity\n",
    "\n",
    "import matplotlib\n",
    "import matplotlib.pyplot as plt\n",
    "from matplotlib.patches import Polygon"
   ]
  },
  {
   "cell_type": "markdown",
   "metadata": {},
   "source": [
    "### Connect to S3 and read data..."
   ]
  },
  {
   "cell_type": "code",
   "execution_count": 2,
   "metadata": {},
   "outputs": [],
   "source": [
    "# read true safety annotations\n",
    "role = get_execution_role() \n",
    "data_location = 's3://{}/{}'.format('sagemaker-060720', 'true_safety.csv') \n",
    "true_safety = pd.read_csv(data_location)"
   ]
  },
  {
   "cell_type": "code",
   "execution_count": 3,
   "metadata": {},
   "outputs": [],
   "source": [
    "# read images and file names\n",
    "file_names = []\n",
    "imgs = []\n",
    "\n",
    "fs = s3fs.S3FileSystem()\n",
    "for img_path in fs.ls('s3://sagemaker-060720/Images/'):\n",
    "    file_name = img_path[24:]\n",
    "    file_names.append(file_name)\n",
    "    with fs.open(f's3://'+img_path) as f:\n",
    "        pil_img = Image.open(f)\n",
    "        buff = BytesIO()\n",
    "        pil_img.save(buff, format=\"JPEG\")\n",
    "        img_bytes = buff.getvalue()\n",
    "        imgs.append(img_bytes)\n",
    "    "
   ]
  },
  {
   "cell_type": "markdown",
   "metadata": {},
   "source": [
    "### Preprocess for NLP..."
   ]
  },
  {
   "cell_type": "code",
   "execution_count": 4,
   "metadata": {},
   "outputs": [],
   "source": [
    "# add allergens column \n",
    "true_safety['allergens'] = \"na\"\n",
    "\n",
    "isaac = 'milk, cheese, soy, cream, eggs'\n",
    "jj = 'peanuts, whey, tree nuts'\n",
    "chelsea = 'Shrimp, Prawns, Lobster, Crab'\n",
    "emma = 'wheat, barely, rye triticale'\n",
    "silvia = 'garlic, avocado, celery'\n",
    "\n",
    "true_safety.loc[0:10, 'allergens'] = emma\n",
    "true_safety.loc[10:21, 'allergens'] = silvia\n",
    "true_safety.loc[21:45, 'allergens'] = isaac\n",
    "true_safety.loc[45:55, 'allergens'] = jj\n",
    "true_safety.loc[55:65, 'allergens'] = chelsea"
   ]
  },
  {
   "cell_type": "code",
   "execution_count": 5,
   "metadata": {},
   "outputs": [
    {
     "name": "stdout",
     "output_type": "stream",
     "text": [
      "(65, 4)\n"
     ]
    },
    {
     "data": {
      "text/html": [
       "<div>\n",
       "<style scoped>\n",
       "    .dataframe tbody tr th:only-of-type {\n",
       "        vertical-align: middle;\n",
       "    }\n",
       "\n",
       "    .dataframe tbody tr th {\n",
       "        vertical-align: top;\n",
       "    }\n",
       "\n",
       "    .dataframe thead th {\n",
       "        text-align: right;\n",
       "    }\n",
       "</style>\n",
       "<table border=\"1\" class=\"dataframe\">\n",
       "  <thead>\n",
       "    <tr style=\"text-align: right;\">\n",
       "      <th></th>\n",
       "      <th>Item</th>\n",
       "      <th>Name</th>\n",
       "      <th>Label</th>\n",
       "      <th>allergens</th>\n",
       "    </tr>\n",
       "  </thead>\n",
       "  <tbody>\n",
       "    <tr>\n",
       "      <th>0</th>\n",
       "      <td>0</td>\n",
       "      <td>emma-1.jpg</td>\n",
       "      <td>0</td>\n",
       "      <td>wheat, barely, rye triticale</td>\n",
       "    </tr>\n",
       "    <tr>\n",
       "      <th>1</th>\n",
       "      <td>1</td>\n",
       "      <td>emma-2.jpg</td>\n",
       "      <td>0</td>\n",
       "      <td>wheat, barely, rye triticale</td>\n",
       "    </tr>\n",
       "    <tr>\n",
       "      <th>2</th>\n",
       "      <td>2</td>\n",
       "      <td>emma-3.jpg</td>\n",
       "      <td>0</td>\n",
       "      <td>wheat, barely, rye triticale</td>\n",
       "    </tr>\n",
       "    <tr>\n",
       "      <th>3</th>\n",
       "      <td>3</td>\n",
       "      <td>emma-4.jpg</td>\n",
       "      <td>0</td>\n",
       "      <td>wheat, barely, rye triticale</td>\n",
       "    </tr>\n",
       "    <tr>\n",
       "      <th>4</th>\n",
       "      <td>4</td>\n",
       "      <td>emma-5.jpg</td>\n",
       "      <td>1</td>\n",
       "      <td>wheat, barely, rye triticale</td>\n",
       "    </tr>\n",
       "  </tbody>\n",
       "</table>\n",
       "</div>"
      ],
      "text/plain": [
       "   Item        Name  Label                     allergens\n",
       "0     0  emma-1.jpg      0  wheat, barely, rye triticale\n",
       "1     1  emma-2.jpg      0  wheat, barely, rye triticale\n",
       "2     2  emma-3.jpg      0  wheat, barely, rye triticale\n",
       "3     3  emma-4.jpg      0  wheat, barely, rye triticale\n",
       "4     4  emma-5.jpg      1  wheat, barely, rye triticale"
      ]
     },
     "execution_count": 5,
     "metadata": {},
     "output_type": "execute_result"
    }
   ],
   "source": [
    "print(true_safety.shape)\n",
    "true_safety.head()"
   ]
  },
  {
   "cell_type": "code",
   "execution_count": 6,
   "metadata": {},
   "outputs": [],
   "source": [
    "# allergens and labels corresponding to images\n",
    "allergens = []\n",
    "labels = []\n",
    "\n",
    "for file_name in file_names:\n",
    "    \n",
    "    true_vals = true_safety.loc[true_safety.Name == file_name,]\n",
    "    \n",
    "    allgs = true_vals.allergens.values[0]\n",
    "    allergens.append(allgs)\n",
    "    \n",
    "    label = true_vals.Label.values[0]\n",
    "    labels.append(label)"
   ]
  },
  {
   "cell_type": "code",
   "execution_count": 7,
   "metadata": {},
   "outputs": [],
   "source": [
    "# Textract detections \n",
    "detected = []\n",
    "\n",
    "for img in imgs:\n",
    "\n",
    "    tex_client = boto3.client('textract')\n",
    "    tex_dect = tex_client.detect_document_text(Document={\"Bytes\":img})\n",
    "\n",
    "    tex_text = [text['Text'] if text['BlockType']=='WORD' else \"\" for text in tex_dect['Blocks']]\n",
    "    detected.append(tex_text)    "
   ]
  },
  {
   "cell_type": "markdown",
   "metadata": {},
   "source": [
    "### Helpful Functions"
   ]
  },
  {
   "cell_type": "code",
   "execution_count": 8,
   "metadata": {},
   "outputs": [],
   "source": [
    "# clean words \n",
    "def clean_word (word):\n",
    "    \n",
    "    c_word = word.lower().strip() # lowercase and remove white space\n",
    "    c_word = re.sub('[^a-zA-Z]+', '', c_word) # remove anything that's not a letter\n",
    "    if len(c_word) < 2: # remove words that are less than 2 characters\n",
    "        c_word = \"\" \n",
    "    \n",
    "    return c_word\n",
    "\n",
    "# clean string of words\n",
    "def clean_text (text, split=True):\n",
    "    \n",
    "    if split == False: # for ocr output\n",
    "        c_text = [clean_word(w) for w in text] # already split and clean words\n",
    "        \n",
    "    else: \n",
    "        c_text = re.sub('[0-9]', ' ', text) # replace numbers with space \n",
    "        c_text = re.sub('['+string.punctuation+']', ' ', c_text) # replace punctuation with space\n",
    "        c_text = [clean_word(w) for w in c_text.split()] # split on spaces and clean words\n",
    "      \n",
    "    c_text = sorted(list(filter(None, set(c_text)))) # remove empty words and get unique values and sort\n",
    "    \n",
    "    return c_text"
   ]
  },
  {
   "cell_type": "code",
   "execution_count": 9,
   "metadata": {},
   "outputs": [],
   "source": [
    "# positive: safe ; negative: unsafe\n",
    "# true positives: #(classified safe products that are actually safe) \n",
    "# false positives: #(classified safe products that are actually unsafe) <- NOT GOOD \n",
    "# true negatives: #(classified unsafe products that are actually unsafe)\n",
    "# false negatives: #(classified unsafe products that are actually safe)\n",
    "\n",
    "def pred_stats(pred_safety, true_safety):\n",
    "    \n",
    "    tp = 0\n",
    "    fp = 0\n",
    "    tn = 0\n",
    "    fn = 0\n",
    "    for i in range(len(pred_safety)):\n",
    "        if (pred_safety[i]==\"safe\") & (true_safety[i]==1):\n",
    "            tp += 1\n",
    "        if (pred_safety[i]==\"safe\") & (true_safety[i]==0):\n",
    "            fp += 1\n",
    "        if (pred_safety[i]==\"unsafe\") & (true_safety[i]==0):\n",
    "            tn += 1\n",
    "        if (pred_safety[i]==\"unsafe\") & (true_safety[i]==1):\n",
    "            fn += 1\n",
    "    \n",
    "    if tp == 0:\n",
    "        p = 0\n",
    "        r = 0\n",
    "        f1score = 0\n",
    "    else: \n",
    "        p = tp/(tp+fp)\n",
    "        r = tp/(tp+fn)\n",
    "        f1score = (2*p*r)/(p+r)\n",
    "        \n",
    "    return [tp,fp,tn,fn,p,r,f1score]"
   ]
  },
  {
   "cell_type": "code",
   "execution_count": 10,
   "metadata": {},
   "outputs": [],
   "source": [
    "# detect the safety of ingredients for a given similarity score \n",
    "def dect_safety(safety_func, sim):  \n",
    "    \n",
    "    start_time = time.time()\n",
    "    \n",
    "    safety = [safety_func(allgs, ings, sim) for allgs,ings in zip(clean_allergens, clean_detected)]\n",
    "    \n",
    "    t_time = (time.time() - start_time)/65\n",
    "    print(\"--- %s seconds ---\" % t_time)\n",
    "    \n",
    "    return [safety, t_time]"
   ]
  },
  {
   "cell_type": "markdown",
   "metadata": {},
   "source": [
    "### Cleaned list of detections and allergens"
   ]
  },
  {
   "cell_type": "code",
   "execution_count": 11,
   "metadata": {},
   "outputs": [],
   "source": [
    "clean_detected = [clean_text(tex_text, split=False) for tex_text in detected]\n",
    "clean_allergens = [clean_text(allgs) for allgs in allergens]"
   ]
  },
  {
   "cell_type": "markdown",
   "metadata": {},
   "source": [
    "## Perfect Match "
   ]
  },
  {
   "cell_type": "code",
   "execution_count": 12,
   "metadata": {},
   "outputs": [],
   "source": [
    "# apply perfect matching\n",
    "def safety_perfect (allergens, ingredients): \n",
    "    if len(ingredients) == 0 or ingredients == ['']:\n",
    "        return \"Nothing detected. Please retake photo.\" \n",
    "    else: \n",
    "        ocr_safety = [a in ingredients for a in allergens] # creates boolean array of presence of allergen in ingredients\n",
    "        if sum(ocr_safety) > 0:\n",
    "            return \"unsafe\"\n",
    "        else: return \"safe\""
   ]
  },
  {
   "cell_type": "code",
   "execution_count": 13,
   "metadata": {},
   "outputs": [
    {
     "name": "stdout",
     "output_type": "stream",
     "text": [
      "--- 6.833443274864784e-06 seconds ---\n"
     ]
    }
   ],
   "source": [
    "start_time = time.time()\n",
    "\n",
    "perfect_safety = [safety_perfect(allgs, ings) for allgs,ings in zip(clean_allergens, clean_detected)]\n",
    "\n",
    "print(\"--- %s seconds ---\" % ((time.time() - start_time)/(65))) # 7.2e-06 seconds"
   ]
  },
  {
   "cell_type": "code",
   "execution_count": 14,
   "metadata": {},
   "outputs": [
    {
     "data": {
      "text/plain": [
       "[37, 4, 22, 1, 0.9024390243902439, 0.9736842105263158, 0.9367088607594938]"
      ]
     },
     "execution_count": 14,
     "metadata": {},
     "output_type": "execute_result"
    }
   ],
   "source": [
    "perfect_scores = pred_stats(perfect_safety, labels)\n",
    "perfect_scores"
   ]
  },
  {
   "cell_type": "markdown",
   "metadata": {},
   "source": [
    "## CountVectorizer"
   ]
  },
  {
   "cell_type": "code",
   "execution_count": 15,
   "metadata": {},
   "outputs": [],
   "source": [
    "def safety_count (allergens, ingredients, sim):\n",
    "    if len(ingredients) == 0 or ingredients == ['']:\n",
    "        return \"Nothing detected. Please retake photo.\" \n",
    "    else:\n",
    "        vectorizer = CountVectorizer(analyzer='char')\n",
    "        words = allergens + ingredients # create list of allergens and ingredients \n",
    "        word_embeddings = vectorizer.fit_transform(words) # embeddings for allergens and ingredients \n",
    "        cos_sims = cosine_similarity(word_embeddings[:len(allergens)], word_embeddings[len(allergens):]) # cos sim of allergens and ingredients \n",
    "        counts = [sum(all_sims) for all_sims in cos_sims > sim] # counts of ingredients with a 'sim' greater cos sim to each allergen \n",
    "        if sum(counts) > 0:\n",
    "            return \"unsafe\" \n",
    "        else: return \"safe\" "
   ]
  },
  {
   "cell_type": "code",
   "execution_count": 16,
   "metadata": {},
   "outputs": [
    {
     "name": "stdout",
     "output_type": "stream",
     "text": [
      "--- 0.0026535657735971305 seconds ---\n",
      "--- 0.0025010952582726113 seconds ---\n",
      "--- 0.0025204621828519382 seconds ---\n",
      "--- 0.0024980838482196515 seconds ---\n",
      "--- 0.002483632014347957 seconds ---\n",
      "--- 0.002503824234008789 seconds ---\n",
      "--- 0.0024527476384089545 seconds ---\n",
      "--- 0.002465959695669321 seconds ---\n"
     ]
    }
   ],
   "source": [
    "count_sims = [0.65, 0.70, 0.75, 0.80, 0.85, 0.90, 0.95, 1]\n",
    "count_safety = [dect_safety(safety_count, sim) for sim in count_sims]"
   ]
  },
  {
   "cell_type": "code",
   "execution_count": 17,
   "metadata": {},
   "outputs": [
    {
     "name": "stdout",
     "output_type": "stream",
     "text": [
      "0.0025099213306720445\n"
     ]
    }
   ],
   "source": [
    "count_safe = [count_s[0] for count_s in count_safety] # detected safety for each cosine threshold\n",
    "print(sum([count_s[1] for count_s in count_safety])/len(count_sims)) # average time: 0.0025"
   ]
  },
  {
   "cell_type": "code",
   "execution_count": 18,
   "metadata": {},
   "outputs": [
    {
     "data": {
      "text/plain": [
       "[[6, 0, 26, 32, 1.0, 0.15789473684210525, 0.2727272727272727],\n",
       " [8, 1, 25, 30, 0.8888888888888888, 0.21052631578947367, 0.3404255319148936],\n",
       " [12, 1, 25, 26, 0.9230769230769231, 0.3157894736842105, 0.47058823529411764],\n",
       " [23, 1, 25, 15, 0.9583333333333334, 0.6052631578947368, 0.7419354838709677],\n",
       " [28, 2, 24, 10, 0.9333333333333333, 0.7368421052631579, 0.8235294117647058],\n",
       " [33, 2, 24, 5, 0.9428571428571428, 0.868421052631579, 0.904109589041096],\n",
       " [36, 3, 23, 2, 0.9230769230769231, 0.9473684210526315, 0.935064935064935],\n",
       " [37, 10, 16, 1, 0.7872340425531915, 0.9736842105263158, 0.8705882352941177]]"
      ]
     },
     "execution_count": 18,
     "metadata": {},
     "output_type": "execute_result"
    }
   ],
   "source": [
    "count_scores = [pred_stats(count_safe[i], labels) for i in range(len(count_sims))] # scores for each cosine\n",
    "count_scores"
   ]
  },
  {
   "cell_type": "markdown",
   "metadata": {},
   "source": [
    "## Chars2Vec"
   ]
  },
  {
   "cell_type": "code",
   "execution_count": 19,
   "metadata": {},
   "outputs": [],
   "source": [
    "def safety_chars (allergens, ingredients, sim):\n",
    "    if len(ingredients) == 0 or ingredients == ['']:\n",
    "        return \"Nothing detected. Please retake photo.\"\n",
    "    else:\n",
    "        c2v_model = chars2vec.load_model('eng_50')\n",
    "        words = allergens + ingredients # create list of allergens and ingredients \n",
    "        word_embeddings = c2v_model.vectorize_words(words) # embeddings for allergens and ingredients \n",
    "        cos_sims = cosine_similarity(word_embeddings[:len(allergens)], word_embeddings[len(allergens):]) # cos sim of allergens and ingredients \n",
    "        counts = [sum(all_sims) for all_sims in cos_sims > sim] # counts of ingredients with a 'sim' greater cos sim to each allergen \n",
    "        if sum(counts) > 0:\n",
    "            return \"unsafe\"\n",
    "        else: return \"safe\""
   ]
  },
  {
   "cell_type": "code",
   "execution_count": 20,
   "metadata": {},
   "outputs": [
    {
     "name": "stdout",
     "output_type": "stream",
     "text": [
      "--- 2.2237358753497785 seconds ---\n",
      "--- 2.27199890430157 seconds ---\n",
      "--- 2.3365699694706845 seconds ---\n",
      "--- 2.426829117995042 seconds ---\n",
      "--- 2.457959222793579 seconds ---\n",
      "--- 2.4357552565061127 seconds ---\n"
     ]
    }
   ],
   "source": [
    "chars_sims = [0.75, 0.80, 0.85, 0.90, 0.95, 1]\n",
    "chars_safety = [dect_safety(safety_chars, sim) for sim in chars_sims]"
   ]
  },
  {
   "cell_type": "code",
   "execution_count": 21,
   "metadata": {},
   "outputs": [
    {
     "name": "stdout",
     "output_type": "stream",
     "text": [
      "2.358808057736128\n"
     ]
    }
   ],
   "source": [
    "chars_safe = [chars_s[0] for chars_s in chars_safety] # detected safety for all ingredients for every cosine threshold\n",
    "print(sum([chars_s[1] for chars_s in chars_safety])/len(chars_sims)) # average time: 2.40915"
   ]
  },
  {
   "cell_type": "code",
   "execution_count": 22,
   "metadata": {},
   "outputs": [
    {
     "data": {
      "text/plain": [
       "[[17, 0, 26, 21, 1.0, 0.4473684210526316, 0.6181818181818182],\n",
       " [24, 1, 25, 14, 0.96, 0.631578947368421, 0.7619047619047619],\n",
       " [30, 2, 24, 8, 0.9375, 0.7894736842105263, 0.8571428571428572],\n",
       " [36, 3, 23, 2, 0.9230769230769231, 0.9473684210526315, 0.935064935064935],\n",
       " [37, 4, 22, 1, 0.9024390243902439, 0.9736842105263158, 0.9367088607594938],\n",
       " [38, 20, 6, 0, 0.6551724137931034, 1.0, 0.7916666666666666]]"
      ]
     },
     "execution_count": 22,
     "metadata": {},
     "output_type": "execute_result"
    }
   ],
   "source": [
    "chars_scores = [pred_stats(chars_safe[i], labels) for i in range(len(chars_sims))] # scores for each cosine\n",
    "chars_scores"
   ]
  },
  {
   "cell_type": "markdown",
   "metadata": {},
   "source": [
    "## ROC and AUC\n",
    "\n",
    "For different thresholds of the cosine similarity score, we can draw an ROC curve to determine the best threshold for the tradeoff we are willing to accept. We can also compare CountVectorizer and Chars2Vec based on their AUC."
   ]
  },
  {
   "cell_type": "markdown",
   "metadata": {},
   "source": [
    "### Helpful Functions"
   ]
  },
  {
   "cell_type": "code",
   "execution_count": 23,
   "metadata": {},
   "outputs": [],
   "source": [
    "# sensitivity = recall =  tp/(tp+fn) : true safe detections out of all safe\n",
    "def tpr(tex_scores): \n",
    "    return [scores[5] for scores in tex_scores]\n",
    "  \n",
    "# 1-specificity = false positive rate = fp/(fp+tn) : false safe detections out of all unsafe\n",
    "def fpr(tex_scores):\n",
    "    return [scores[1]/(scores[1]+scores[2]) for scores in tex_scores if (scores[1]+scores[2])!=0]\n",
    "    \n",
    "# (0:tp, 1:fp, 2:tn, 3:fn, 4:p, 5:r, 6:f1score) "
   ]
  },
  {
   "cell_type": "code",
   "execution_count": 36,
   "metadata": {},
   "outputs": [],
   "source": [
    "plt.style.use('fivethirtyeight')\n",
    "matplotlib.rcParams['font.family'] = \"sans-serif\"\n",
    "\n",
    "def plotROC (scores1, scores2, scores3):\n",
    "    \n",
    "    x1 = fpr(scores1)\n",
    "    y1 = tpr(scores1)\n",
    "\n",
    "    x2 = fpr(scores2)\n",
    "    y2 = tpr(scores2)\n",
    "    \n",
    "    x3 = scores3[1]/(scores3[1]+scores3[2])\n",
    "    y3 = scores3[5]\n",
    "\n",
    "    fig, ax = plt.subplots(figsize=(8,8))\n",
    "    \n",
    "    plt.plot([0, 0, 1], [0, 1, 1], ':k', label='Perfect Classifier')\n",
    "    plt.plot([0,1], [0,1], ':k', label='Random Classifier')\n",
    "\n",
    "    plt.ylabel(\"True Positive Rate\", color=\"#447b72\", weight=\"bold\")\n",
    "    plt.yticks(fontsize=12, color=\"#234943\")\n",
    "    plt.xlabel(\"False Positive Rate\", color=\"#447b72\", weight=\"bold\")\n",
    "    plt.xticks(fontsize=12, color=\"#234943\")\n",
    "    #plt.title(\"All Images\")\n",
    "\n",
    "    plt.plot(x3, y3, 'Db', label='Basic Match', alpha=0.75)\n",
    "    plt.plot(x1, y1, 'c', label='CountVectorizer')\n",
    "    plt.plot(x2, y2, 'y', label='Chars2Vec')\n",
    "    plt.plot(x3, y3, 'Db')\n",
    "\n",
    "    legend = ax.legend(loc='center right', edgecolor='#447b72', shadow=True, prop={'weight':'bold', 'size':10})\n",
    "    frame = legend.get_frame()\n",
    "    frame.set_facecolor(\"white\")\n",
    "    \n",
    "    for text in legend.get_texts():\n",
    "        text.set_color(\"#447b72\")\n",
    "\n",
    "    verts1 = [(x1[0], 0), *zip(x1, y1), (x1[-1], 0)]\n",
    "    poly1 = Polygon(verts1, facecolor='0.9', edgecolor='0.5', color=\"c\", alpha=0.1)\n",
    "    ax.add_patch(poly1)\n",
    "\n",
    "    verts2 = [(x2[0], 0), *zip(x2, y2), (x2[-1], 0)]\n",
    "    poly2 = Polygon(verts2, facecolor='0.9', edgecolor='0.5', color=\"y\", alpha=0.1)\n",
    "    ax.add_patch(poly2)\n",
    "    \n",
    "    fig.set_facecolor('white')\n",
    "    ax.set_facecolor(\"white\")\n",
    "\n",
    "#     for i, txt in enumerate(count_sims):\n",
    "#         ax.annotate(txt, (x1[i], y1[i]+0.02), fontsize=10)\n",
    "        \n",
    "#     for i, txt in enumerate(chars_sims):\n",
    "#         ax.annotate(txt, (x2[i], y2[i]+0.02), fontsize=10)\n",
    "\n",
    "    return plt"
   ]
  },
  {
   "cell_type": "code",
   "execution_count": 37,
   "metadata": {},
   "outputs": [
    {
     "name": "stderr",
     "output_type": "stream",
     "text": [
      "<ipython-input-36-59bc0449a24b>:39: UserWarning: Setting the 'color' property will override the edgecolor or facecolor properties.\n",
      "  poly1 = Polygon(verts1, facecolor='0.9', edgecolor='0.5', color=\"c\", alpha=0.1)\n",
      "<ipython-input-36-59bc0449a24b>:43: UserWarning: Setting the 'color' property will override the edgecolor or facecolor properties.\n",
      "  poly2 = Polygon(verts2, facecolor='0.9', edgecolor='0.5', color=\"y\", alpha=0.1)\n"
     ]
    },
    {
     "data": {
      "image/png": "[encoded data removed]",
      "text/plain": [
       "<Figure size 576x576 with 1 Axes>"
      ]
     },
     "metadata": {},
     "output_type": "display_data"
    }
   ],
   "source": [
    "plt = plotROC(count_scores, chars_scores, perfect_scores) # top ingredients \n",
    "\n",
    "plt.show()"
   ]
  },
  {
   "cell_type": "code",
   "execution_count": null,
   "metadata": {},
   "outputs": [],
   "source": []
  },
  {
   "cell_type": "code",
   "execution_count": null,
   "metadata": {},
   "outputs": [],
   "source": []
  },
  {
   "cell_type": "code",
   "execution_count": null,
   "metadata": {},
   "outputs": [],
   "source": []
  },
  {
   "cell_type": "code",
   "execution_count": null,
   "metadata": {},
   "outputs": [],
   "source": []
  },
  {
   "cell_type": "code",
   "execution_count": null,
   "metadata": {},
   "outputs": [],
   "source": [
    "results = []\n",
    "\n",
    "tp = 0\n",
    "fp = 0\n",
    "tn = 0\n",
    "fn = 0\n",
    "\n",
    "fs = s3fs.S3FileSystem()\n",
    "for img_path in fs.ls('s3://sagemaker-060720/Images/'):\n",
    "    \n",
    "    file_name = img_path[24:]\n",
    "    true_vals = true_safety.loc[true_safety.Name == file_name,]\n",
    "    label = true_vals.Label.values[0]\n",
    "    allergens = true_vals.allergens.values[0]\n",
    "    \n",
    "    with fs.open(f's3://'+img_path) as f:\n",
    "        \n",
    "        pil_img = Image.open(f)\n",
    "\n",
    "        \n",
    "        buff = BytesIO()\n",
    "        pil_img.save(buff, format=\"JPEG\")\n",
    "        img_bytes = buff.getvalue()\n",
    "        \n",
    "        tex_client = boto3.client('textract')\n",
    "        tex_dect = tex_client.detect_document_text(Document={\"Bytes\":img_bytes})\n",
    "        \n",
    "        tex_text = [text['Text'] if text['BlockType']=='WORD' else \"\" for text in tex_dect['Blocks']]\n",
    "        \n",
    "        tex_ingredients = clean_text(tex_text, split=False)\n",
    "        \n",
    "        clean_allergens = clean_text(allergens)\n",
    "        \n",
    "#         tex_results = safety(clean_allergens, tex_ingredients)\n",
    "\n",
    "#         results.append(tex_results)\n",
    "        \n",
    "#         tex_safety = tex_results['result']\n",
    "\n",
    "        tex_safety = safety_count(clean_allergens, tex_ingredients)\n",
    "        \n",
    "        if (tex_safety==\"safe\") & (label==1):\n",
    "            tp += 1\n",
    "        if (tex_safety==\"safe\") & (label==0):\n",
    "            fp += 1\n",
    "        if (tex_safety==\"unsafe\") & (label==0):\n",
    "            tn += 1\n",
    "        if (tex_safety==\"unsafe\") & (label==1):\n",
    "            fn += 1\n",
    "\n",
    "print(tp, fp, tn, fn)"
   ]
  },
  {
   "cell_type": "code",
   "execution_count": null,
   "metadata": {},
   "outputs": [],
   "source": [
    "\n",
    "\n",
    "# safety of product\n",
    "def safety (allergens, ingredients):\n",
    "    vectorizer = CountVectorizer(analyzer='char')\n",
    "    if len(ingredients) == 0 or ingredients == ['']:\n",
    "        return { \"ocr\": ingredients,\n",
    "                 \"target\": allergens,\n",
    "                 \"matchy\": \"Nothing detected.\",\n",
    "                 \"result\": \"Nothing detected. Please retake photo.\" }\n",
    "    else:\n",
    "        words = allergens + ingredients # create list of allergens and ingredients \n",
    "        word_embeddings = vectorizer.fit_transform(words) # embeddings for allergens and ingredients \n",
    "        cos_sims = cosine_similarity(word_embeddings[:len(allergens)], word_embeddings[len(allergens):]) # cos sim of allergens and ingredients \n",
    "        counts = [sum(all_sims) for all_sims in cos_sims > 0.85] # counts of ingredients with a 0.75 greater cos sim to each allergen \n",
    "        b = [c!=0 for c in counts] # boolean of counts\n",
    "        matches = np.array(allergens)[b] # dangerous ingredients\n",
    "        if sum(counts) > 0:\n",
    "            return { \"ocr\": ingredients,\n",
    "                     \"target\": allergens,\n",
    "                     \"matchy\": list(matches),\n",
    "                     \"result\": \"unsafe\" }\n",
    "        else: return { \"ocr\": ingredients,\n",
    "                       \"target\": allergens,\n",
    "                       \"matchy\": \"None of the ingredients match your allergens.\",\n",
    "                       \"result\": \"safe\" }"
   ]
  },
  {
   "cell_type": "code",
   "execution_count": null,
   "metadata": {},
   "outputs": [],
   "source": [
    "def safety_chars (allergens, ingredients):\n",
    "    if len(ingredients) == 0 or ingredients == ['']:\n",
    "        return \"Nothing detected. Please retake photo.\"\n",
    "    else:\n",
    "        c2v_model = chars2vec.load_model('eng_50')\n",
    "        words = allergens + ingredients # create list of allergens and ingredients \n",
    "        word_embeddings = c2v_model.vectorize_words(words) # embeddings for allergens and ingredients \n",
    "        cos_sims = cosine_similarity(word_embeddings[:len(allergens)], word_embeddings[len(allergens):]) # cos sim of allergens and ingredients \n",
    "        counts = [sum(all_sims) for all_sims in cos_sims > 0.75] # counts of ingredients with a 'sim' greater cos sim to each allergen \n",
    "        if sum(counts) > 0:\n",
    "            return \"unsafe\"\n",
    "        else: return \"safe\"\n",
    "        \n",
    "def safety_count (allergens, ingredients):\n",
    "    if len(ingredients) == 0 or ingredients == ['']:\n",
    "        return \"Nothing detected. Please retake photo.\" \n",
    "    else:\n",
    "        vectorizer = CountVectorizer(analyzer='char')\n",
    "        words = allergens + ingredients # create list of allergens and ingredients \n",
    "        word_embeddings = vectorizer.fit_transform(words) # embeddings for allergens and ingredients \n",
    "        cos_sims = cosine_similarity(word_embeddings[:len(allergens)], word_embeddings[len(allergens):]) # cos sim of allergens and ingredients \n",
    "        counts = [sum(all_sims) for all_sims in cos_sims > 0.75] # counts of ingredients with a 'sim' greater cos sim to each allergen \n",
    "        if sum(counts) > 0:\n",
    "            return \"unsafe\" \n",
    "        else: return \"safe\" "
   ]
  },
  {
   "cell_type": "code",
   "execution_count": null,
   "metadata": {},
   "outputs": [],
   "source": [
    "p = tp/(tp+fp)\n",
    "r = tp/(tp+fn)\n",
    "if p==0 and r==0:\n",
    "    f1score = 0\n",
    "else: f1score = (2*p*r)/(p+r)"
   ]
  },
  {
   "cell_type": "code",
   "execution_count": null,
   "metadata": {},
   "outputs": [],
   "source": [
    "f1score"
   ]
  },
  {
   "cell_type": "code",
   "execution_count": null,
   "metadata": {},
   "outputs": [],
   "source": [
    "r"
   ]
  },
  {
   "cell_type": "code",
   "execution_count": null,
   "metadata": {},
   "outputs": [],
   "source": [
    "fp/(fp+tn)"
   ]
  },
  {
   "cell_type": "code",
   "execution_count": null,
   "metadata": {},
   "outputs": [],
   "source": [
    "28 2 24 10 | 30 2 24 8\n",
    "\n",
    "0.8235294117647058 | 0.8571428571428572\n",
    "\n",
    "0.7368421052631579 | 0.7894736842105263\n",
    "\n",
    "0.07692307692307693 | 0.07692307692307693\n",
    "\n",
    "\n",
    "12 1 25 26 | "
   ]
  },
  {
   "cell_type": "code",
   "execution_count": null,
   "metadata": {},
   "outputs": [],
   "source": []
  },
  {
   "cell_type": "code",
   "execution_count": null,
   "metadata": {},
   "outputs": [],
   "source": []
  },
  {
   "cell_type": "code",
   "execution_count": null,
   "metadata": {},
   "outputs": [],
   "source": []
  },
  {
   "cell_type": "code",
   "execution_count": null,
   "metadata": {},
   "outputs": [],
   "source": [
    "# detect the safety of ingredients for a given similarity score \n",
    "def dect_safety(safety_func, sim):  \n",
    "    \n",
    "    start_time = time.time()\n",
    "    \n",
    "    top_safety = [[safety_func(person, ing, sim) for ing in top_tex_ings] for person in allergens] # detected safety for top ingredients\n",
    "    all_safety = [[safety_func(person, ing, sim) for ing in tex_ingredients] for person in allergens] # detected safety for all ingredients\n",
    "    \n",
    "    t_time = (time.time() - start_time)/(1210*5)\n",
    "    print(\"--- %s seconds ---\" % t_time)\n",
    "    \n",
    "    return [top_safety, all_safety, t_time]"
   ]
  },
  {
   "cell_type": "code",
   "execution_count": null,
   "metadata": {},
   "outputs": [],
   "source": [
    "# positive: safe ; negative: unsafe\n",
    "# true positives: #(classified safe products that are actually safe) \n",
    "# false positives: #(classified safe products that are actually unsafe) <- NOT GOOD \n",
    "# true negatives: #(classified unsafe products that are actually unsafe)\n",
    "# false negatives: #(classified unsafe products that are actually safe)\n",
    "\n",
    "def pred_stats(pred_safety, true_safety):\n",
    "    \n",
    "    tp = 0\n",
    "    fp = 0\n",
    "    tn = 0\n",
    "    fn = 0\n",
    "    for i in range(len(pred_safety)):\n",
    "        if (pred_safety[i]==\"safe\") & (true_safety[i]==\"safe\"):\n",
    "            tp += 1\n",
    "        if (pred_safety[i]==\"safe\") & (true_safety[i]==\"unsafe\"):\n",
    "            fp += 1\n",
    "        if (pred_safety[i]==\"unsafe\") & (true_safety[i]==\"unsafe\"):\n",
    "            tn += 1\n",
    "        if (pred_safety[i]==\"unsafe\") & (true_safety[i]==\"safe\"):\n",
    "            fn += 1\n",
    "            \n",
    "    p = tp/(tp+fp)\n",
    "    r = tp/(tp+fn)\n",
    "    if p==0 and r==0:\n",
    "        f1score = 0\n",
    "    else: f1score = (2*p*r)/(p+r)\n",
    "        \n",
    "    return(tp,fp,tn,fn,p,r,f1score)"
   ]
  },
  {
   "cell_type": "code",
   "execution_count": null,
   "metadata": {},
   "outputs": [],
   "source": [
    "person_A = ['milk', 'cheese', 'soy', 'cream', 'eggs']\n",
    "person_B = ['peanuts', 'whey', 'tree nuts']\n",
    "person_C = ['Shrimp', 'Prawns', 'Lobster', 'Crab']\n",
    "person_D = ['wheat', 'barely', 'rye triticale']\n",
    "person_E = ['garlic', 'avocado', 'celery']\n",
    "\n",
    "allergens = [person_A, person_B, person_C, person_D, person_E]"
   ]
  },
  {
   "cell_type": "code",
   "execution_count": null,
   "metadata": {},
   "outputs": [],
   "source": [
    "# boolean of presence of allergens\n",
    "top_bool_safety = [[[a in ing for a in person] for ing in a_tex_ings] for person in allergens] # for top ingredients \n",
    "bool_safety = [[[a in ing for a in person] for ing in ingredients] for person in allergens] # for all ingredients \n",
    "\n",
    "# true safety of each product\n",
    "top_true_safety = [[\"unsafe\" if sum(s)>0 else \"safe\" for s in person] for person in top_bool_safety]\n",
    "true_safety = [[\"unsafe\" if sum(s)>0 else \"safe\" for s in person] for person in bool_safety] \n",
    "\n",
    "print(len(top_true_safety[0]))\n",
    "print(len(true_safety[0]))"
   ]
  },
  {
   "cell_type": "code",
   "execution_count": null,
   "metadata": {},
   "outputs": [],
   "source": [
    "# actual safety for persons \n",
    "print(\"top safe\", [sum([s == \"safe\" for s in person]) for person in top_true_safety], \"top unsafe\", [sum([s == \"unsafe\" for s in person]) for person in top_true_safety])\n",
    "print(\"all safe\", [sum([s == \"safe\" for s in person]) for person in true_safety], \"all unsafe\", [sum([s == \"unsafe\" for s in person]) for person in true_safety])\n"
   ]
  },
  {
   "cell_type": "code",
   "execution_count": null,
   "metadata": {},
   "outputs": [],
   "source": [
    "top_tex_ings = top_tex_ingredients[2] # top detected ingredients\n",
    "#tex_ingredients <- all detected ingredients "
   ]
  },
  {
   "cell_type": "markdown",
   "metadata": {},
   "source": [
    "# Basic"
   ]
  },
  {
   "cell_type": "code",
   "execution_count": null,
   "metadata": {},
   "outputs": [],
   "source": [
    "# apply perfect matching\n",
    "def safety_basic (allergens, ingredients): \n",
    "    if len(ingredients) == 0 or ingredients == ['']:\n",
    "        return \"Nothing detected. Please retake photo.\" \n",
    "    else: \n",
    "        ocr_safety = [a in ingredients for a in allergens] # creates boolean array of presence of allergen in ingredients\n",
    "        if sum(ocr_safety) > 0:\n",
    "            return \"unsafe\"\n",
    "        else: return \"safe\""
   ]
  },
  {
   "cell_type": "code",
   "execution_count": null,
   "metadata": {},
   "outputs": [],
   "source": [
    "start_time = time.time()\n",
    "\n",
    "top_basic_safety = [[safety_basic(person, ing) for ing in top_tex_ings] for person in allergens] # detected safety for top ingredients for each person\n",
    "basic_safety = [[safety_basic(person, ing) for ing in tex_ingredients] for person in allergens] # detected safety for all ingredients for each person\n",
    "\n",
    "print(\"--- %s seconds ---\" % ((time.time() - start_time)/(1210*5))) # 0.000003"
   ]
  },
  {
   "cell_type": "code",
   "execution_count": null,
   "metadata": {},
   "outputs": [],
   "source": [
    "print(len(top_basic_safety[0]))\n",
    "print(len(basic_safety[0]))"
   ]
  },
  {
   "cell_type": "code",
   "execution_count": null,
   "metadata": {},
   "outputs": [],
   "source": [
    "top_basic_scores = [pred_stats(top_basic_safety[i], top_true_safety[i]) for i in range(5)] # scores for top ingredients for each person \n",
    "basic_scores = [pred_stats(basic_safety[i], true_safety[i]) for i in range(5)] # scores for all ingredients for each person \n",
    "\n",
    "print(len(top_basic_scores[0]))\n",
    "print(len(basic_scores[0]))"
   ]
  },
  {
   "cell_type": "markdown",
   "metadata": {},
   "source": [
    "# Count"
   ]
  },
  {
   "cell_type": "code",
   "execution_count": null,
   "metadata": {},
   "outputs": [],
   "source": [
    "def safety_count (allergens, ingredients, sim):\n",
    "    if len(ingredients) == 0 or ingredients == ['']:\n",
    "        return \"Nothing detected. Please retake photo.\" \n",
    "    else:\n",
    "        vectorizer = CountVectorizer(analyzer='char')\n",
    "        words = allergens + ingredients # create list of allergens and ingredients \n",
    "        word_embeddings = vectorizer.fit_transform(words) # embeddings for allergens and ingredients \n",
    "        cos_sims = cosine_similarity(word_embeddings[:len(allergens)], word_embeddings[len(allergens):]) # cos sim of allergens and ingredients \n",
    "        counts = [sum(all_sims) for all_sims in cos_sims > sim] # counts of ingredients with a 'sim' greater cos sim to each allergen \n",
    "        if sum(counts) > 0:\n",
    "            return \"unsafe\" \n",
    "        else: return \"safe\" "
   ]
  },
  {
   "cell_type": "code",
   "execution_count": null,
   "metadata": {},
   "outputs": [],
   "source": [
    "count_sims = [0.75, 0.80, 0.85, 0.90, 0.95]\n",
    "count_safes = [dect_safety(safety_count, sim) for sim in count_sims]\n",
    "top_count_safety = [count_s[0] for count_s in count_safes] # detected safety for top ingredients for every cosine threshold\n",
    "count_safety = [count_s[1] for count_s in count_safes] # detected safety for all ingredients for every cosine threshold\n",
    "print(sum([count_s[2] for count_s in count_safes])/5) # 0.00230"
   ]
  },
  {
   "cell_type": "code",
   "execution_count": null,
   "metadata": {},
   "outputs": [],
   "source": [
    "print(len(top_count_safety[0][0]))\n",
    "print(len(count_safety[0][0]))"
   ]
  },
  {
   "cell_type": "code",
   "execution_count": null,
   "metadata": {},
   "outputs": [],
   "source": [
    "top_count_scores = [[pred_stats(top_count_safety[s][i], top_true_safety[i]) for i in range(5)] for s in range(5)] # scores for top ingredients for each cosine and each person\n",
    "count_scores = [[pred_stats(count_safety[s][i], true_safety[i]) for i in range(5)] for s in range(5)] # scores for top ingredients for each cosine and each person\n",
    "\n",
    "print(len(top_count_scores[0][0]))\n",
    "print(len(count_scores[0][0]))"
   ]
  },
  {
   "cell_type": "markdown",
   "metadata": {},
   "source": [
    "# Chars"
   ]
  },
  {
   "cell_type": "code",
   "execution_count": null,
   "metadata": {},
   "outputs": [],
   "source": [
    "def safety_chars (allergens, ingredients, sim):\n",
    "    if len(ingredients) == 0 or ingredients == ['']:\n",
    "        return \"Nothing detected. Please retake photo.\"\n",
    "    else:\n",
    "        c2v_model = chars2vec.load_model('eng_50')\n",
    "        words = allergens + ingredients # create list of allergens and ingredients \n",
    "        word_embeddings = c2v_model.vectorize_words(words) # embeddings for allergens and ingredients \n",
    "        cos_sims = cosine_similarity(word_embeddings[:len(allergens)], word_embeddings[len(allergens):]) # cos sim of allergens and ingredients \n",
    "        counts = [sum(all_sims) for all_sims in cos_sims > sim] # counts of ingredients with a 'sim' greater cos sim to each allergen \n",
    "        if sum(counts) > 0:\n",
    "            return \"unsafe\"\n",
    "        else: return \"safe\""
   ]
  },
  {
   "cell_type": "code",
   "execution_count": null,
   "metadata": {},
   "outputs": [],
   "source": [
    "safety_chars[person_A, top_tex_ings, 0.85]"
   ]
  },
  {
   "cell_type": "code",
   "execution_count": null,
   "metadata": {},
   "outputs": [],
   "source": [
    "chars_sims = [0.65, 0.70, 0.75, 0.80, 0.85, 0.90, 0.95]\n",
    "chars_safes = [dect_safety(safety_chars, sim) for sim in chars_sims]\n",
    "top_chars_safety = [chars_s[0] for chars_s in chars_safes] # detected safety for top ingredients for every cosine threshold\n",
    "chars_safety = [chars_s[1] for chars_s in chars_safes] # detected safety for top ingredients for every cosine threshold\n",
    "print(sum([chars_s[2] for chars_s in chars_safes])/5) # 0.000956"
   ]
  },
  {
   "cell_type": "code",
   "execution_count": null,
   "metadata": {},
   "outputs": [],
   "source": [
    "print(len(top_chars_safety[0][0]))\n",
    "print(len(chars_safety[0][0]))"
   ]
  },
  {
   "cell_type": "code",
   "execution_count": null,
   "metadata": {},
   "outputs": [],
   "source": [
    "top_chars_scores = [[pred_stats(top_chars_safety[s][i], top_true_safety[i]) for i in range(5)] for s in range(5)] # scores for top ingredients for each cosine and each person\n",
    "chars_scores = [[pred_stats(chars_safety[s][i], true_safety[i]) for i in range(5)] for s in range(5)] # scores for top ingredients for each cosine and each person\n",
    "\n",
    "print(len(top_chars_scores[0][0]))\n",
    "print(len(chars_scores[0][0]))"
   ]
  },
  {
   "cell_type": "markdown",
   "metadata": {},
   "source": [
    "# ROC AUC "
   ]
  },
  {
   "cell_type": "markdown",
   "metadata": {},
   "source": [
    "For different thresholds of the cosine similarity score, we can draw an ROC curve to determine the best threshold for the tradeoff we are willing to accept. We can also decide to use CountVectorizer or Chars2Vec based on which one has a greater AUC."
   ]
  },
  {
   "cell_type": "code",
   "execution_count": null,
   "metadata": {},
   "outputs": [],
   "source": [
    "# sensitivity = recall =  tp/(tp+fn) : true safe detections out of all safe\n",
    "def tpr(tex_scores): \n",
    "    return [sum([scores[5] for scores in tex_scores[i]])/5 for i in range(5)]\n",
    "  \n",
    "# 1-specificity = false positive rate = fp/(fp+tn) : false safe detections out of all unsafe\n",
    "def fpr(tex_scores):\n",
    "    return [sum([scores[1]/(scores[1]+scores[2]) for scores in tex_scores[i] if (scores[1]+scores[2])!=0])/5 for i in range(5)]\n",
    "    \n",
    "# (0:tp, 1:fp, 2:tn, 3:fn, 4:p, 5:r, 6:f1score) "
   ]
  },
  {
   "cell_type": "code",
   "execution_count": null,
   "metadata": {},
   "outputs": [],
   "source": [
    "plt.style.use('fivethirtyeight')\n",
    "matplotlib.rcParams['font.family'] = \"sans-serif\"\n",
    "\n",
    "def plotROC (tex_scores1, tex_scores2, tex_scores3):\n",
    "    \n",
    "    x1 = fpr(tex_scores1)\n",
    "    y1 = tpr(tex_scores1)\n",
    "\n",
    "    x2 = fpr(tex_scores2)\n",
    "    y2 = tpr(tex_scores2)\n",
    "\n",
    "    fig, ax = plt.subplots(figsize=(8,5))\n",
    "    \n",
    "    x3 = sum([scores[1]/(scores[1]+scores[2]) for scores in tex_scores3 if (scores[1]+scores[2])!=0])/5\n",
    "    y3 = sum([scores[5] for scores in tex_scores3])/5\n",
    "\n",
    "    plt.ylabel(\"True Positive Rate\", color=\"#447b72\", weight=\"bold\")\n",
    "    plt.yticks(fontsize=12, color=\"#234943\")\n",
    "    plt.xlabel(\"False Positive Rate\", color=\"#447b72\", weight=\"bold\")\n",
    "    plt.xticks(fontsize=12, color=\"#234943\")\n",
    "    #plt.title(\"All Images\")\n",
    "\n",
    "    plt.plot(x3, y3, 'Db', label='Basic Match', alpha=0.75)\n",
    "    plt.plot(x1, y1, 'c', label='CountVectorizer')\n",
    "    plt.plot(x2, y2, 'y', label='Chars2Vec')\n",
    "    plt.plot(x3, y3, 'Db')\n",
    "\n",
    "    legend = ax.legend(loc='upper left', edgecolor='#447b72', shadow=True, prop={'weight':'bold', 'size':10})\n",
    "    frame = legend.get_frame()\n",
    "    frame.set_facecolor(\"white\")\n",
    "    \n",
    "    for text in legend.get_texts():\n",
    "        text.set_color(\"#447b72\")\n",
    "\n",
    "    verts1 = [(x1[0], 0), *zip(x1, y1), (x1[4], 0)]\n",
    "    poly1 = Polygon(verts1, facecolor='0.9', edgecolor='0.5', color=\"c\", alpha=0.1)\n",
    "    ax.add_patch(poly1)\n",
    "\n",
    "    verts2 = [(x2[0], 0), *zip(x2, y2), (x2[4], 0)]\n",
    "    poly2 = Polygon(verts2, facecolor='0.9', edgecolor='0.5', color=\"y\", alpha=0.1)\n",
    "    ax.add_patch(poly2)\n",
    "    \n",
    "    fig.set_facecolor('white')\n",
    "    ax.set_facecolor(\"white\")\n",
    "\n",
    "#     for i, txt in enumerate(s):\n",
    "#         ax.annotate(txt, (x1[i], y1[i]+0.02), fontsize=10)\n",
    "#         ax.annotate(txt, (x2[i], y2[i]-0.02), fontsize=10)\n",
    "\n",
    "    return plt"
   ]
  },
  {
   "cell_type": "code",
   "execution_count": null,
   "metadata": {},
   "outputs": [],
   "source": [
    "plt = plotROC(top_count_scores, top_chars_scores, top_basic_scores) # top ingredients \n",
    "\n",
    "plt.show()"
   ]
  },
  {
   "cell_type": "code",
   "execution_count": null,
   "metadata": {},
   "outputs": [],
   "source": [
    "plt = plotROC(count_scores, chars_scores, basic_scores) # all ingredients \n",
    "\n",
    "plt.show()"
   ]
  },
  {
   "cell_type": "code",
   "execution_count": null,
   "metadata": {},
   "outputs": [],
   "source": []
  }
 ],
 "metadata": {
  "kernelspec": {
   "display_name": "conda_ocr_new",
   "language": "python",
   "name": "conda_ocr_new"
  },
  "language_info": {
   "codemirror_mode": {
    "name": "ipython",
    "version": 3
   },
   "file_extension": ".py",
   "mimetype": "text/x-python",
   "name": "python",
   "nbconvert_exporter": "python",
   "pygments_lexer": "ipython3",
   "version": "3.8.3"
  }
 },
 "nbformat": 4,
 "nbformat_minor": 4
}
